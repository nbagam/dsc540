{
 "cells": [
  {
   "cell_type": "markdown",
   "id": "a8ed8317",
   "metadata": {},
   "source": [
    "# Activity 11"
   ]
  },
  {
   "cell_type": "code",
   "execution_count": 8,
   "id": "4b897c46",
   "metadata": {},
   "outputs": [],
   "source": [
    "import sqlite3\n"
   ]
  },
  {
   "cell_type": "code",
   "execution_count": 9,
   "id": "0062f0f5",
   "metadata": {},
   "outputs": [],
   "source": [
    "conn = sqlite3.connect(\"petsdb\")"
   ]
  },
  {
   "cell_type": "code",
   "execution_count": 10,
   "id": "5c7bdd0b",
   "metadata": {},
   "outputs": [],
   "source": [
    "def is_opened(conn):\n",
    "    try:\n",
    "        conn.execute(\"SELECT * FROM persons LIMIT 1\")\n",
    "        return True\n",
    "    \n",
    "    except sqlite3.ProgrammingError as e:\n",
    "        print(\"Connection closed {}\".format(e))\n",
    "        return False\n",
    "    "
   ]
  },
  {
   "cell_type": "code",
   "execution_count": 11,
   "id": "5fe2b371",
   "metadata": {},
   "outputs": [
    {
     "name": "stdout",
     "output_type": "stream",
     "text": [
      "True\n"
     ]
    }
   ],
   "source": [
    "print(is_opened(conn))"
   ]
  },
  {
   "cell_type": "code",
   "execution_count": 12,
   "id": "548bcf63",
   "metadata": {},
   "outputs": [
    {
     "name": "stdout",
     "output_type": "stream",
     "text": [
      "2 People in age 5 group\n",
      "1 People in age 6 group\n",
      "1 People in age 7 group\n",
      "3 People in age 8 group\n",
      "1 People in age 9 group\n",
      "2 People in age 11 group\n",
      "3 People in age 12 group\n",
      "1 People in age 13 group\n",
      "4 People in age 14 group\n",
      "2 People in age 16 group\n",
      "2 People in age 17 group\n",
      "3 People in age 18 group\n",
      "1 People in age 19 group\n",
      "3 People in age 22 group\n",
      "2 People in age 23 group\n",
      "3 People in age 24 group\n",
      "2 People in age 25 group\n",
      "1 People in age 27 group\n",
      "1 People in age 30 group\n",
      "3 People in age 31 group\n",
      "1 People in age 32 group\n",
      "1 People in age 33 group\n",
      "2 People in age 34 group\n",
      "3 People in age 35 group\n",
      "3 People in age 36 group\n",
      "1 People in age 37 group\n",
      "2 People in age 39 group\n",
      "1 People in age 40 group\n",
      "1 People in age 42 group\n",
      "2 People in age 44 group\n",
      "2 People in age 48 group\n",
      "1 People in age 49 group\n",
      "1 People in age 50 group\n",
      "2 People in age 51 group\n",
      "2 People in age 52 group\n",
      "2 People in age 53 group\n",
      "2 People in age 54 group\n",
      "1 People in age 58 group\n",
      "1 People in age 59 group\n",
      "1 People in age 60 group\n",
      "1 People in age 61 group\n",
      "2 People in age 62 group\n",
      "1 People in age 63 group\n",
      "2 People in age 65 group\n",
      "2 People in age 66 group\n",
      "1 People in age 67 group\n",
      "3 People in age 68 group\n",
      "1 People in age 69 group\n",
      "1 People in age 70 group\n",
      "4 People in age 71 group\n",
      "1 People in age 72 group\n",
      "5 People in age 73 group\n",
      "3 People in age 74 group\n"
     ]
    }
   ],
   "source": [
    "# different age groups\n",
    "cur = conn.cursor()\n",
    "for people, age in cur.execute(\"SELECT count(1), age FROM persons GROUP BY age\"):\n",
    "    print(\"{} People in age {} group\".format(people,age))"
   ]
  },
  {
   "cell_type": "code",
   "execution_count": 13,
   "id": "a4540092",
   "metadata": {},
   "outputs": [
    {
     "name": "stdout",
     "output_type": "stream",
     "text": [
      "Higest people 5  in age 73 group\n"
     ]
    }
   ],
   "source": [
    "# Group with hightest number of people\n",
    "for people, age in cur.execute(\"SELECT count(1), age FROM persons GROUP BY age order by 1 DESC\"):\n",
    "    print(\"Higest people {}  in age {} group\".format(people,age))\n",
    "    break"
   ]
  },
  {
   "cell_type": "code",
   "execution_count": 14,
   "id": "7f20a4d1",
   "metadata": {},
   "outputs": [
    {
     "name": "stdout",
     "output_type": "stream",
     "text": [
      "('Erica',)\n",
      "('Jordi',)\n",
      "('Chasity',)\n",
      "('Gregg',)\n",
      "('Cary',)\n",
      "('Francisca',)\n",
      "('Raleigh',)\n",
      "('Maria',)\n",
      "('Mariane',)\n",
      "('Mona',)\n",
      "('Kayla',)\n",
      "('Karlie',)\n",
      "('Morris',)\n",
      "('Sandy',)\n",
      "('Hector',)\n",
      "('Hiram',)\n",
      "('Tressa',)\n",
      "('Berry',)\n",
      "('Pearline',)\n",
      "('Maynard',)\n",
      "('Dorian',)\n",
      "('Mylene',)\n",
      "('Lafayette',)\n",
      "('Tara',)\n",
      "('Destiny',)\n",
      "('Lesly',)\n",
      "('Perry',)\n",
      "('Maritza',)\n",
      "('Grant',)\n",
      "('Laury',)\n",
      "('Name',)\n",
      "('Estefania',)\n",
      "('Destiney',)\n",
      "('Jaquelin',)\n",
      "('Alfonzo',)\n",
      "('Lisandro',)\n",
      "('Priscilla',)\n",
      "('Elenora',)\n",
      "('Rudolph',)\n",
      "('Ona',)\n",
      "('Rebeca',)\n",
      "('Sigurd',)\n",
      "('Alice',)\n",
      "('Dane',)\n",
      "('Judge',)\n",
      "('Allene',)\n",
      "('Jalen',)\n",
      "('Myron',)\n",
      "('Travon',)\n",
      "('Shayna',)\n",
      "('Myah',)\n",
      "('Letha',)\n",
      "('Felton',)\n",
      "('London',)\n",
      "('Koby',)\n",
      "('Golden',)\n",
      "('Anissa',)\n",
      "('Sid',)\n",
      "('Ernesto',)\n",
      "('Josianne',)\n"
     ]
    }
   ],
   "source": [
    "# find the people with last name NULL\n",
    "\n",
    "lastnull = cur.execute(\"SELECT first_name FROM persons WHERE last_name is null\")\n",
    "for row in lastnull:\n",
    "    print(row)"
   ]
  },
  {
   "cell_type": "code",
   "execution_count": 15,
   "id": "f0ea5fe3",
   "metadata": {},
   "outputs": [
    {
     "name": "stdout",
     "output_type": "stream",
     "text": [
      " 43 People has more than 1 pet\n"
     ]
    }
   ],
   "source": [
    "# people with more than one pet\n",
    "morethan1pet = cur.execute(\"SELECT COUNT(1) FROM (SELECT count(1) FROM pets GROUP BY owner_id HAVING count(owner_id) >1)\")\n",
    "for row in morethan1pet:\n",
    "    print(\" {} People has more than 1 pet\".format(row[0]))"
   ]
  },
  {
   "cell_type": "code",
   "execution_count": 16,
   "id": "4397e003",
   "metadata": {},
   "outputs": [
    {
     "name": "stdout",
     "output_type": "stream",
     "text": [
      " 36 pets received treatment\n"
     ]
    }
   ],
   "source": [
    "#Find How many pets recevived Treatment\n",
    "\n",
    "ptreat= cur.execute(\"select count(1) FROM pets WHERE treatment_done=1\")\n",
    "for row in ptreat:\n",
    "    print(\" {} pets received treatment\".format(row[0]))"
   ]
  },
  {
   "cell_type": "code",
   "execution_count": 17,
   "id": "a16a6b0a",
   "metadata": {},
   "outputs": [
    {
     "name": "stdout",
     "output_type": "stream",
     "text": [
      " 16 pets received treatment where pettype is known \n"
     ]
    }
   ],
   "source": [
    "# teratment received and type of pet is known\n",
    "\n",
    "ptreat= cur.execute(\"select count(1) FROM pets WHERE treatment_done=1 AND pet_type IS NOT NULL\" )\n",
    "for row in ptreat:\n",
    "    print(\" {} pets received treatment where pettype is known \".format(row[0]))\n"
   ]
  },
  {
   "cell_type": "code",
   "execution_count": 18,
   "id": "4d62f96d",
   "metadata": {},
   "outputs": [
    {
     "name": "stdout",
     "output_type": "stream",
     "text": [
      "49 pets are from 'east port' city\n"
     ]
    }
   ],
   "source": [
    "# pets from 'east port'\n",
    "pcity = cur.execute(\"select count(1) FROM pets JOIN persons ON pets.owner_id = persons.id WHERE persons.city ='east port'\")\n",
    "for row in pcity:\n",
    "    print(\"{} pets are from 'east port' city\".format(row[0]))"
   ]
  },
  {
   "cell_type": "code",
   "execution_count": 19,
   "id": "d2d34d84",
   "metadata": {},
   "outputs": [
    {
     "name": "stdout",
     "output_type": "stream",
     "text": [
      "11 pets are from 'east port' city and received treatment\n"
     ]
    }
   ],
   "source": [
    "# pets from 'east port and received treatment'\n",
    "pcity = cur.execute(\"select count(1) FROM pets JOIN persons ON pets.owner_id = persons.id WHERE persons.city ='east port' and pets.treatment_done=1\")\n",
    "for row in pcity:\n",
    "    print(\"{} pets are from 'east port' city and received treatment\".format(row[0]))"
   ]
  },
  {
   "cell_type": "code",
   "execution_count": 22,
   "id": "6b494656",
   "metadata": {},
   "outputs": [],
   "source": [
    "conn.close()"
   ]
  },
  {
   "cell_type": "code",
   "execution_count": null,
   "id": "95a659fe",
   "metadata": {},
   "outputs": [],
   "source": []
  }
 ],
 "metadata": {
  "kernelspec": {
   "display_name": "Python 3 (ipykernel)",
   "language": "python",
   "name": "python3"
  },
  "language_info": {
   "codemirror_mode": {
    "name": "ipython",
    "version": 3
   },
   "file_extension": ".py",
   "mimetype": "text/x-python",
   "name": "python",
   "nbconvert_exporter": "python",
   "pygments_lexer": "ipython3",
   "version": "3.9.7"
  }
 },
 "nbformat": 4,
 "nbformat_minor": 5
}
