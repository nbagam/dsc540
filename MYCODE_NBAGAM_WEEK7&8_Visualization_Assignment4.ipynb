{
 "cells": [
  {
   "cell_type": "code",
   "execution_count": null,
   "id": "384555ac",
   "metadata": {},
   "outputs": [],
   "source": [
    "# GENERATE Barchart FROM THE DATA SET world-population.xlsm"
   ]
  },
  {
   "cell_type": "code",
   "execution_count": 7,
   "id": "c21e7fb1",
   "metadata": {},
   "outputs": [],
   "source": [
    "import pandas as pd\n",
    "import matplotlib.pyplot as plt"
   ]
  },
  {
   "cell_type": "code",
   "execution_count": 13,
   "id": "687dbab7",
   "metadata": {},
   "outputs": [
    {
     "data": {
      "text/html": [
       "<div>\n",
       "<style scoped>\n",
       "    .dataframe tbody tr th:only-of-type {\n",
       "        vertical-align: middle;\n",
       "    }\n",
       "\n",
       "    .dataframe tbody tr th {\n",
       "        vertical-align: top;\n",
       "    }\n",
       "\n",
       "    .dataframe thead th {\n",
       "        text-align: right;\n",
       "    }\n",
       "</style>\n",
       "<table border=\"1\" class=\"dataframe\">\n",
       "  <thead>\n",
       "    <tr style=\"text-align: right;\">\n",
       "      <th></th>\n",
       "      <th>Year</th>\n",
       "      <th>Population</th>\n",
       "    </tr>\n",
       "  </thead>\n",
       "  <tbody>\n",
       "    <tr>\n",
       "      <th>0</th>\n",
       "      <td>1960</td>\n",
       "      <td>3028654024</td>\n",
       "    </tr>\n",
       "    <tr>\n",
       "      <th>1</th>\n",
       "      <td>1961</td>\n",
       "      <td>3068356747</td>\n",
       "    </tr>\n",
       "    <tr>\n",
       "      <th>2</th>\n",
       "      <td>1962</td>\n",
       "      <td>3121963107</td>\n",
       "    </tr>\n",
       "    <tr>\n",
       "      <th>3</th>\n",
       "      <td>1963</td>\n",
       "      <td>3187471383</td>\n",
       "    </tr>\n",
       "    <tr>\n",
       "      <th>4</th>\n",
       "      <td>1964</td>\n",
       "      <td>3253112403</td>\n",
       "    </tr>\n",
       "  </tbody>\n",
       "</table>\n",
       "</div>"
      ],
      "text/plain": [
       "   Year  Population\n",
       "0  1960  3028654024\n",
       "1  1961  3068356747\n",
       "2  1962  3121963107\n",
       "3  1963  3187471383\n",
       "4  1964  3253112403"
      ]
     },
     "execution_count": 13,
     "metadata": {},
     "output_type": "execute_result"
    }
   ],
   "source": [
    "#read the excel file using pd.read_excel\n",
    "df = pd.read_excel('world-population.xlsm')\n",
    "df.head() "
   ]
  },
  {
   "cell_type": "code",
   "execution_count": 21,
   "id": "ad51531f",
   "metadata": {},
   "outputs": [
    {
     "data": {
      "text/plain": [
       "<BarContainer object of 50 artists>"
      ]
     },
     "execution_count": 21,
     "metadata": {},
     "output_type": "execute_result"
    },
    {
     "data": {
      "image/png": "[encoded data removed]",
      "text/plain": [
       "<Figure size 720x360 with 1 Axes>"
      ]
     },
     "metadata": {
      "needs_background": "light"
     },
     "output_type": "display_data"
    }
   ],
   "source": [
    "Year =  df['Year']\n",
    "Population = df['Population']\n",
    "  \n",
    "fig = plt.figure(figsize = (10, 5))\n",
    " \n",
    "# creating the bar plot\n",
    "plt.bar(Year, Population, color ='Blue',\n",
    "        width = 0.4)\n",
    " "
   ]
  },
  {
   "cell_type": "code",
   "execution_count": 22,
   "id": "856e74ce",
   "metadata": {},
   "outputs": [
    {
     "data": {
      "text/plain": [
       "<AxesSubplot:xlabel='Year', ylabel='Population'>"
      ]
     },
     "execution_count": 22,
     "metadata": {},
     "output_type": "execute_result"
    },
    {
     "data": {
      "image/png": "[encoded data removed]",
      "text/plain": [
       "<Figure size 432x288 with 1 Axes>"
      ]
     },
     "metadata": {
      "needs_background": "light"
     },
     "output_type": "display_data"
    }
   ],
   "source": [
    "# Scatter plot using world-population.xlsm \n",
    "import seaborn as sns\n",
    "sns.regplot(x=df[\"Year\"], y=df[\"Population\"])"
   ]
  },
  {
   "cell_type": "code",
   "execution_count": 25,
   "id": "b860fc3b",
   "metadata": {},
   "outputs": [
    {
     "data": {
      "image/png": "[encoded data removed]",
      "text/plain": [
       "<Figure size 432x288 with 1 Axes>"
      ]
     },
     "metadata": {
      "needs_background": "light"
     },
     "output_type": "display_data"
    }
   ],
   "source": [
    "# histogram\n",
    "ax = df.plot.hist(bins=12, alpha=0.5)"
   ]
  },
  {
   "cell_type": "code",
   "execution_count": 24,
   "id": "cf03d4b0",
   "metadata": {},
   "outputs": [
    {
     "data": {
      "text/html": [
       "<div>\n",
       "<style scoped>\n",
       "    .dataframe tbody tr th:only-of-type {\n",
       "        vertical-align: middle;\n",
       "    }\n",
       "\n",
       "    .dataframe tbody tr th {\n",
       "        vertical-align: top;\n",
       "    }\n",
       "\n",
       "    .dataframe thead th {\n",
       "        text-align: right;\n",
       "    }\n",
       "</style>\n",
       "<table border=\"1\" class=\"dataframe\">\n",
       "  <thead>\n",
       "    <tr style=\"text-align: right;\">\n",
       "      <th></th>\n",
       "      <th>Timestamp</th>\n",
       "      <th>How old are you?</th>\n",
       "      <th>Are you going actually going trick or treating yourself?</th>\n",
       "      <th>[Butterfinger]</th>\n",
       "      <th>[100 Grand Bar]</th>\n",
       "      <th>[Anonymous brown globs that come in black and orange wrappers]</th>\n",
       "      <th>[Any full-sized candy bar]</th>\n",
       "      <th>[Black Jacks]</th>\n",
       "      <th>[Bonkers]</th>\n",
       "      <th>[Bottle Caps]</th>\n",
       "      <th>...</th>\n",
       "      <th>[Necco Wafers]</th>\n",
       "      <th>Which day do you prefer, Friday or Sunday?</th>\n",
       "      <th>Please estimate the degrees of separation you have from the following folks [Bruce Lee]</th>\n",
       "      <th>Please estimate the degrees of separation you have from the following folks [JK Rowling]</th>\n",
       "      <th>Please estimate the degrees of separation you have from the following folks [Malala Yousafzai]</th>\n",
       "      <th>Please estimate the degrees of separation you have from the following folks [Thom Yorke]</th>\n",
       "      <th>Please estimate the degrees of separation you have from the following folks [JJ Abrams]</th>\n",
       "      <th>Please estimate the degrees of separation you have from the following folks [Hillary Clinton]</th>\n",
       "      <th>Please estimate the degrees of separation you have from the following folks [Donald Trump]</th>\n",
       "      <th>Please estimate the degrees of separation you have from the following folks [Beyoncé Knowles]</th>\n",
       "    </tr>\n",
       "  </thead>\n",
       "  <tbody>\n",
       "    <tr>\n",
       "      <th>0</th>\n",
       "      <td>2015-10-23 08:46:20.451</td>\n",
       "      <td>35.0</td>\n",
       "      <td>No</td>\n",
       "      <td>JOY</td>\n",
       "      <td>NaN</td>\n",
       "      <td>DESPAIR</td>\n",
       "      <td>JOY</td>\n",
       "      <td>NaN</td>\n",
       "      <td>NaN</td>\n",
       "      <td>NaN</td>\n",
       "      <td>...</td>\n",
       "      <td>NaN</td>\n",
       "      <td>NaN</td>\n",
       "      <td>NaN</td>\n",
       "      <td>NaN</td>\n",
       "      <td>NaN</td>\n",
       "      <td>NaN</td>\n",
       "      <td>NaN</td>\n",
       "      <td>NaN</td>\n",
       "      <td>NaN</td>\n",
       "      <td>NaN</td>\n",
       "    </tr>\n",
       "    <tr>\n",
       "      <th>1</th>\n",
       "      <td>2015-10-23 08:46:51.583</td>\n",
       "      <td>41.0</td>\n",
       "      <td>No</td>\n",
       "      <td>JOY</td>\n",
       "      <td>JOY</td>\n",
       "      <td>DESPAIR</td>\n",
       "      <td>JOY</td>\n",
       "      <td>DESPAIR</td>\n",
       "      <td>DESPAIR</td>\n",
       "      <td>JOY</td>\n",
       "      <td>...</td>\n",
       "      <td>DESPAIR</td>\n",
       "      <td>NaN</td>\n",
       "      <td>NaN</td>\n",
       "      <td>NaN</td>\n",
       "      <td>NaN</td>\n",
       "      <td>NaN</td>\n",
       "      <td>NaN</td>\n",
       "      <td>NaN</td>\n",
       "      <td>NaN</td>\n",
       "      <td>NaN</td>\n",
       "    </tr>\n",
       "    <tr>\n",
       "      <th>2</th>\n",
       "      <td>2015-10-23 08:47:34.285</td>\n",
       "      <td>33.0</td>\n",
       "      <td>No</td>\n",
       "      <td>DESPAIR</td>\n",
       "      <td>DESPAIR</td>\n",
       "      <td>DESPAIR</td>\n",
       "      <td>JOY</td>\n",
       "      <td>DESPAIR</td>\n",
       "      <td>DESPAIR</td>\n",
       "      <td>DESPAIR</td>\n",
       "      <td>...</td>\n",
       "      <td>DESPAIR</td>\n",
       "      <td>NaN</td>\n",
       "      <td>NaN</td>\n",
       "      <td>NaN</td>\n",
       "      <td>NaN</td>\n",
       "      <td>NaN</td>\n",
       "      <td>NaN</td>\n",
       "      <td>NaN</td>\n",
       "      <td>NaN</td>\n",
       "      <td>NaN</td>\n",
       "    </tr>\n",
       "    <tr>\n",
       "      <th>3</th>\n",
       "      <td>2015-10-23 08:47:58.964</td>\n",
       "      <td>31.0</td>\n",
       "      <td>No</td>\n",
       "      <td>JOY</td>\n",
       "      <td>JOY</td>\n",
       "      <td>DESPAIR</td>\n",
       "      <td>JOY</td>\n",
       "      <td>DESPAIR</td>\n",
       "      <td>DESPAIR</td>\n",
       "      <td>JOY</td>\n",
       "      <td>...</td>\n",
       "      <td>DESPAIR</td>\n",
       "      <td>NaN</td>\n",
       "      <td>NaN</td>\n",
       "      <td>NaN</td>\n",
       "      <td>NaN</td>\n",
       "      <td>NaN</td>\n",
       "      <td>NaN</td>\n",
       "      <td>NaN</td>\n",
       "      <td>NaN</td>\n",
       "      <td>NaN</td>\n",
       "    </tr>\n",
       "    <tr>\n",
       "      <th>4</th>\n",
       "      <td>2015-10-23 08:48:11.719</td>\n",
       "      <td>30.0</td>\n",
       "      <td>No</td>\n",
       "      <td>NaN</td>\n",
       "      <td>JOY</td>\n",
       "      <td>DESPAIR</td>\n",
       "      <td>JOY</td>\n",
       "      <td>NaN</td>\n",
       "      <td>NaN</td>\n",
       "      <td>NaN</td>\n",
       "      <td>...</td>\n",
       "      <td>NaN</td>\n",
       "      <td>NaN</td>\n",
       "      <td>NaN</td>\n",
       "      <td>NaN</td>\n",
       "      <td>NaN</td>\n",
       "      <td>NaN</td>\n",
       "      <td>NaN</td>\n",
       "      <td>NaN</td>\n",
       "      <td>NaN</td>\n",
       "      <td>NaN</td>\n",
       "    </tr>\n",
       "  </tbody>\n",
       "</table>\n",
       "<p>5 rows × 124 columns</p>\n",
       "</div>"
      ],
      "text/plain": [
       "                Timestamp How old are you?  \\\n",
       "0 2015-10-23 08:46:20.451             35.0   \n",
       "1 2015-10-23 08:46:51.583             41.0   \n",
       "2 2015-10-23 08:47:34.285             33.0   \n",
       "3 2015-10-23 08:47:58.964             31.0   \n",
       "4 2015-10-23 08:48:11.719             30.0   \n",
       "\n",
       "  Are you going actually going trick or treating yourself?  [Butterfinger]  \\\n",
       "0                                                 No                   JOY   \n",
       "1                                                 No                   JOY   \n",
       "2                                                 No               DESPAIR   \n",
       "3                                                 No                   JOY   \n",
       "4                                                 No                   NaN   \n",
       "\n",
       "   [100 Grand Bar]  \\\n",
       "0              NaN   \n",
       "1              JOY   \n",
       "2          DESPAIR   \n",
       "3              JOY   \n",
       "4              JOY   \n",
       "\n",
       "   [Anonymous brown globs that come in black and orange wrappers]  \\\n",
       "0                                            DESPAIR                \n",
       "1                                            DESPAIR                \n",
       "2                                            DESPAIR                \n",
       "3                                            DESPAIR                \n",
       "4                                            DESPAIR                \n",
       "\n",
       "   [Any full-sized candy bar]  [Black Jacks]  [Bonkers]  [Bottle Caps]  ...  \\\n",
       "0                         JOY            NaN        NaN            NaN  ...   \n",
       "1                         JOY        DESPAIR    DESPAIR            JOY  ...   \n",
       "2                         JOY        DESPAIR    DESPAIR        DESPAIR  ...   \n",
       "3                         JOY        DESPAIR    DESPAIR            JOY  ...   \n",
       "4                         JOY            NaN        NaN            NaN  ...   \n",
       "\n",
       "   [Necco Wafers] Which day do you prefer, Friday or Sunday?  \\\n",
       "0             NaN                                        NaN   \n",
       "1         DESPAIR                                        NaN   \n",
       "2         DESPAIR                                        NaN   \n",
       "3         DESPAIR                                        NaN   \n",
       "4             NaN                                        NaN   \n",
       "\n",
       "  Please estimate the degrees of separation you have from the following folks [Bruce Lee]  \\\n",
       "0                                                NaN                                        \n",
       "1                                                NaN                                        \n",
       "2                                                NaN                                        \n",
       "3                                                NaN                                        \n",
       "4                                                NaN                                        \n",
       "\n",
       "  Please estimate the degrees of separation you have from the following folks [JK Rowling]  \\\n",
       "0                                                NaN                                         \n",
       "1                                                NaN                                         \n",
       "2                                                NaN                                         \n",
       "3                                                NaN                                         \n",
       "4                                                NaN                                         \n",
       "\n",
       "  Please estimate the degrees of separation you have from the following folks [Malala Yousafzai]  \\\n",
       "0                                                NaN                                               \n",
       "1                                                NaN                                               \n",
       "2                                                NaN                                               \n",
       "3                                                NaN                                               \n",
       "4                                                NaN                                               \n",
       "\n",
       "  Please estimate the degrees of separation you have from the following folks [Thom Yorke]  \\\n",
       "0                                                NaN                                         \n",
       "1                                                NaN                                         \n",
       "2                                                NaN                                         \n",
       "3                                                NaN                                         \n",
       "4                                                NaN                                         \n",
       "\n",
       "  Please estimate the degrees of separation you have from the following folks [JJ Abrams]  \\\n",
       "0                                                NaN                                        \n",
       "1                                                NaN                                        \n",
       "2                                                NaN                                        \n",
       "3                                                NaN                                        \n",
       "4                                                NaN                                        \n",
       "\n",
       "  Please estimate the degrees of separation you have from the following folks [Hillary Clinton]  \\\n",
       "0                                                NaN                                              \n",
       "1                                                NaN                                              \n",
       "2                                                NaN                                              \n",
       "3                                                NaN                                              \n",
       "4                                                NaN                                              \n",
       "\n",
       "  Please estimate the degrees of separation you have from the following folks [Donald Trump]  \\\n",
       "0                                                NaN                                           \n",
       "1                                                NaN                                           \n",
       "2                                                NaN                                           \n",
       "3                                                NaN                                           \n",
       "4                                                NaN                                           \n",
       "\n",
       "  Please estimate the degrees of separation you have from the following folks [Beyoncé Knowles]  \n",
       "0                                                NaN                                             \n",
       "1                                                NaN                                             \n",
       "2                                                NaN                                             \n",
       "3                                                NaN                                             \n",
       "4                                                NaN                                             \n",
       "\n",
       "[5 rows x 124 columns]"
      ]
     },
     "execution_count": 24,
     "metadata": {},
     "output_type": "execute_result"
    }
   ],
   "source": [
    "#Generate Histogram from CANDY-HIERARCHY-2015-SURVEY-Responses.xlxs\n",
    "#read the excel file using pd.read_excel\n",
    "df_candy = pd.read_excel('CANDY-HIERARCHY-2015-SURVEY-Responses.xlsx')\n",
    "df_candy.head() \n"
   ]
  },
  {
   "cell_type": "code",
   "execution_count": 33,
   "id": "5d6bc3e9",
   "metadata": {},
   "outputs": [
    {
     "data": {
      "image/png": "[encoded data removed]",
      "text/plain": [
       "<Figure size 432x288 with 1 Axes>"
      ]
     },
     "metadata": {
      "needs_background": "light"
     },
     "output_type": "display_data"
    }
   ],
   "source": [
    "plt.hist(df_candy['Are you going actually going trick or treating yourself?']) \n",
    "plt.title(\"Are you going actually going trick or treating yourself?\") \n",
    "plt.show()"
   ]
  },
  {
   "cell_type": "code",
   "execution_count": null,
   "id": "e10f21cd",
   "metadata": {},
   "outputs": [],
   "source": []
  }
 ],
 "metadata": {
  "kernelspec": {
   "display_name": "Python 3 (ipykernel)",
   "language": "python",
   "name": "python3"
  },
  "language_info": {
   "codemirror_mode": {
    "name": "ipython",
    "version": 3
   },
   "file_extension": ".py",
   "mimetype": "text/x-python",
   "name": "python",
   "nbconvert_exporter": "python",
   "pygments_lexer": "ipython3",
   "version": "3.9.7"
  }
 },
 "nbformat": 4,
 "nbformat_minor": 5
}
